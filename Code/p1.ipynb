{
  "nbformat": 4,
  "nbformat_minor": 0,
  "metadata": {
    "colab": {
      "name": "Untitled2.ipynb",
      "provenance": []
    },
    "kernelspec": {
      "name": "python3",
      "display_name": "Python 3"
    },
    "language_info": {
      "name": "python"
    }
  },
  "cells": [
    {
      "cell_type": "code",
      "metadata": {
        "colab": {
          "base_uri": "https://localhost:8080/"
        },
        "id": "MO4GQoJ1Td4Y",
        "outputId": "863d0631-ff7b-4dc0-8da3-e173759eeb20"
      },
      "source": [
        "from sklearn import tree\n",
        " \n",
        "# Examples\n",
        "# Weight Texture Label\n",
        "# 150g   Bumpy   Orange\n",
        "# 170g   Bumpy   Orange\n",
        "# 140g   Smooth  Apple\n",
        "# 130g   Smooth  Apple\n",
        " \n",
        "# Training Data\n",
        "# features = [[140, \"smooth\"], [130, \"smooth\"], [150, \"bumpy\"], [170, \"bumpy\"]]  # Input to classifier\n",
        "features = [[140, 1], [130, 1], [150, 0], [170, 0]]  # scikit-learn uses real-valued features\n",
        "# labels = [\"apple\", \"apple\", \"orange\", \"orange\"]  # Desired output\n",
        "labels = [0, 0, 1, 1]\n",
        " \n",
        "# Train Classifer\n",
        "clf = tree.DecisionTreeClassifier()  # Decision Tree classifier\n",
        "clf = clf.fit(features, labels)  # Find patterns in data\n",
        " \n",
        "# Make Predictions\n",
        "print(clf.predict([[160, 0]]))\n",
        "# Output: 0-apple, 1-orange\n",
        "# Correct output is: 1-orange"
      ],
      "execution_count": 1,
      "outputs": [
        {
          "output_type": "stream",
          "text": [
            "[1]\n"
          ],
          "name": "stdout"
        }
      ]
    }
  ]
}