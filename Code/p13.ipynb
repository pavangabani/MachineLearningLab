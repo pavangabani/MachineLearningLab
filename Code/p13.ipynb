{
  "nbformat": 4,
  "nbformat_minor": 0,
  "metadata": {
    "kernelspec": {
      "display_name": "Python 3",
      "language": "python",
      "name": "python3"
    },
    "language_info": {
      "codemirror_mode": {
        "name": "ipython",
        "version": 3
      },
      "file_extension": ".py",
      "mimetype": "text/x-python",
      "name": "python",
      "nbconvert_exporter": "python",
      "pygments_lexer": "ipython3",
      "version": "3.7.5"
    },
    "colab": {
      "name": "p13.ipynb",
      "provenance": []
    }
  },
  "cells": [
    {
      "cell_type": "code",
      "metadata": {
        "id": "Jm-C1YKmrDO8"
      },
      "source": [
        "from __future__ import absolute_import, division, print_function, unicode_literals\n",
        "\n",
        "try:\n",
        "  %tensorflow_version 2.x\n",
        "except Exception:\n",
        "  pass"
      ],
      "execution_count": null,
      "outputs": []
    },
    {
      "cell_type": "code",
      "metadata": {
        "id": "3c0HBQklrDO9"
      },
      "source": [
        "import tensorflow as tf\n",
        "import numpy as np\n",
        "\n",
        "# random seed for always same result from TF2\n",
        "tf.random.set_seed(1)\n",
        "np.random.seed(1)"
      ],
      "execution_count": null,
      "outputs": []
    },
    {
      "cell_type": "code",
      "metadata": {
        "id": "hRMT9JJPrDO-"
      },
      "source": [
        "class Node:\n",
        "    def __init__(self):\n",
        "        self.w = tf.Variable(tf.random.normal([2, 1]))\n",
        "        self.b = tf.Variable(tf.random.normal([1, 1]))\n",
        "        \n",
        "    def __call__(self, x):\n",
        "        return self.preds(x)\n",
        "    \n",
        "    def preds(self,x):\n",
        "        # forward propagation\n",
        "        out = tf.matmul(x,self.w)\n",
        "        out = tf.add(out, self.b)\n",
        "        out = tf.nn.sigmoid(out)\n",
        "        return out\n",
        "    \n",
        "    def loss(self,y_pred, y):\n",
        "        return tf.reduce_mean(tf.square(y_pred - y))\n",
        "   \n",
        "    def train(self, inputs, outputs, learning_rate):\n",
        "        epochs = range(10000)\n",
        "        for i, epoch in enumerate(epochs):\n",
        "            with tf.GradientTape() as t:\n",
        "                current_loss = self.loss(self.preds(inputs), outputs)\n",
        "                if i % 1000 == 0:\n",
        "                    print(str(i) + \" epoch, loss: \"+str(current_loss.numpy()))\n",
        "                # back propagation\n",
        "                dW, db = t.gradient(current_loss, [self.w, self.b])\n",
        "                self.w.assign_sub(learning_rate * dW)\n",
        "                self.b.assign_sub(learning_rate * db)"
      ],
      "execution_count": null,
      "outputs": []
    },
    {
      "cell_type": "code",
      "metadata": {
        "id": "raI4dlcWrDO-",
        "outputId": "0df661ab-9703-4808-ca44-296f0c216a41"
      },
      "source": [
        "# AND operation\n",
        "inputs = tf.constant([[0.0,0.0], [0.0,1.0], [1.0,0.0], [1.0,1.0]])\n",
        "outputs = tf.constant([[0.0], [0.0], [0.0], [1.0]])\n",
        "\n",
        "node = Node()\n",
        "# train\n",
        "node.train(inputs, outputs, 0.01)\n",
        "# test\n",
        "assert node([[0.0,0.0]]).numpy()[0][0] < 0.5\n",
        "assert node([[0.0,1.0]]).numpy()[0][0] < 0.5\n",
        "assert node([[1.0,0.0]]).numpy()[0][0] < 0.5\n",
        "assert node([[1.0,1.0]]).numpy()[0][0] >= 0.5"
      ],
      "execution_count": null,
      "outputs": [
        {
          "output_type": "stream",
          "text": [
            "0 epoch, loss: 0.14193062\n",
            "1000 epoch, loss: 0.12047812\n",
            "2000 epoch, loss: 0.10478282\n",
            "3000 epoch, loss: 0.09277938\n",
            "4000 epoch, loss: 0.08325236\n",
            "5000 epoch, loss: 0.075465575\n",
            "6000 epoch, loss: 0.06895569\n",
            "7000 epoch, loss: 0.06341742\n",
            "8000 epoch, loss: 0.05864069\n",
            "9000 epoch, loss: 0.054475207\n"
          ],
          "name": "stdout"
        }
      ]
    },
    {
      "cell_type": "code",
      "metadata": {
        "id": "e1R6RCPErDPA",
        "outputId": "d2924f04-07c0-47d6-9720-fdf550369dd2"
      },
      "source": [
        "# OR operation\n",
        "inputs = tf.constant([[0.0,0.0], [0.0,1.0], [1.0,0.0], [1.0,1.0]])\n",
        "outputs = tf.constant([[0.0], [1.0], [1.0], [1.0]])\n",
        "\n",
        "node = Node()\n",
        "# train\n",
        "node.train(inputs, outputs, 0.01)\n",
        "# test\n",
        "assert node([[0.0,0.0]]).numpy()[0][0] < 0.5\n",
        "assert node([[0.0,1.0]]).numpy()[0][0] >= 0.5\n",
        "assert node([[1.0,0.0]]).numpy()[0][0] >= 0.5\n",
        "assert node([[1.0,1.0]]).numpy()[0][0] >= 0.5"
      ],
      "execution_count": null,
      "outputs": [
        {
          "output_type": "stream",
          "text": [
            "0 epoch, loss: 0.2860349\n",
            "1000 epoch, loss: 0.11865921\n",
            "2000 epoch, loss: 0.09779619\n",
            "3000 epoch, loss: 0.08329055\n",
            "4000 epoch, loss: 0.07180754\n",
            "5000 epoch, loss: 0.062597096\n",
            "6000 epoch, loss: 0.055128783\n",
            "7000 epoch, loss: 0.049000803\n",
            "8000 epoch, loss: 0.04391424\n",
            "9000 epoch, loss: 0.039646696\n"
          ],
          "name": "stdout"
        }
      ]
    },
    {
      "cell_type": "code",
      "metadata": {
        "id": "5KqvowdUrDPA",
        "outputId": "ef6bd721-67f0-456e-d592-5faa9d70b821"
      },
      "source": [
        "print(\"Node Weights: \",node.w.numpy())"
      ],
      "execution_count": null,
      "outputs": [
        {
          "output_type": "stream",
          "text": [
            "Node Weights:  [[2.461971 ]\n",
            " [2.4734807]]\n"
          ],
          "name": "stdout"
        }
      ]
    },
    {
      "cell_type": "code",
      "metadata": {
        "id": "KbEXVuETrDPB",
        "outputId": "df29395a-870d-410c-b632-0638f33e0075"
      },
      "source": [
        "print(\"Node Bias: \",node.b.numpy())"
      ],
      "execution_count": null,
      "outputs": [
        {
          "output_type": "stream",
          "text": [
            "Node Bias:  [[-0.8695577]]\n"
          ],
          "name": "stdout"
        }
      ]
    },
    {
      "cell_type": "code",
      "metadata": {
        "id": "QU8sNK3VrDPB"
      },
      "source": [
        ""
      ],
      "execution_count": null,
      "outputs": []
    }
  ]
}