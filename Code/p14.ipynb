{
  "nbformat": 4,
  "nbformat_minor": 0,
  "metadata": {
    "colab": {
      "name": "p14",
      "provenance": []
    },
    "kernelspec": {
      "name": "python3",
      "display_name": "Python 3"
    }
  },
  "cells": [
    {
      "cell_type": "code",
      "metadata": {
        "colab": {
          "base_uri": "https://localhost:8080/"
        },
        "id": "q0uh6Sq4F8uA",
        "outputId": "ea0e0883-1832-45ce-eaa9-926178e4a31e"
      },
      "source": [
        "from keras.preprocessing import image\n",
        "import numpy as np\n",
        "import os\n",
        "from keras.applications.imagenet_utils import preprocess_input #model \n",
        "from keras.applications.imagenet_utils import decode_predictions\n",
        "\n",
        "os.chdir(\"/content/drive/MyDrive/data/data\")\n",
        "from keras.utils import np_utils\n",
        "from sklearn.utils import shuffle\n",
        "from sklearn.model_selection import train_test_split\n",
        "import os\n",
        "import time\n",
        "PATH = os.getcwd()\n",
        "# Define data path\n",
        "\n",
        "data_path = PATH\n",
        "data_dir_list = os.listdir(data_path)\n",
        "\n",
        "img_data_list=[]\n",
        "\n",
        "for dataset in data_dir_list:\n",
        "\timg_list=os.listdir(data_path+'/'+ dataset) #e:/data/cat \n",
        "\tprint ('Loaded the images of dataset-'+'{}\\n'.format(dataset))\n",
        "\tfor img in img_list:\n",
        "\t\timg_path = data_path + '/'+ dataset + '/'+ img  #e:/data/cat/cat.1.jpg\n",
        "\t\timg = image.load_img(img_path, target_size=(224, 224))\n",
        "\t\tx = image.img_to_array(img)\n",
        "\t\tx = np.expand_dims(x, axis=0)  \n",
        "\t\tx = preprocess_input(x) #image into \n",
        "#\t\tx = x/255\n",
        "\t\tprint('Input image shape:', x.shape)\n",
        "\t\timg_data_list.append(x)\n",
        "\n",
        "img_data = np.array(img_data_list)\n",
        "#img_data = img_data.astype('float32')\n",
        "print (img_data.shape)\n",
        "img_data=np.rollaxis(img_data,1,0)\n",
        "print (img_data.shape)\n",
        "img_data=img_data[0]\n",
        "print (img_data.shape)\n",
        "\n",
        "\n",
        "# Define the number of classes\n",
        "num_classes = 4\n",
        "num_of_samples = img_data.shape[0]\n",
        "labels = np.ones((num_of_samples,),dtype='int64')\n",
        "\n",
        "labels[0:25]=0\n",
        "labels[26:50]=1\n",
        "labels[51:75]=2\n",
        "labels[76:]=3\n",
        "\n",
        "names = ['cats','dogs','horses','humans']\n",
        "\n",
        "# convert class labels to on-hot encoding\n",
        "Y = np_utils.to_categorical(labels, num_classes)\n",
        "\n",
        "#Shuffle the dataset\n",
        "x,y = shuffle(img_data,Y, random_state=2)\n",
        "# Split the dataset\n",
        "X_train, X_test, y_train, y_test = train_test_split(x, y, test_size=0.2, random_state=2)\n",
        "\n",
        "\n",
        "\n",
        "\n",
        "\n",
        "\n",
        "\n"
      ],
      "execution_count": null,
      "outputs": [
        {
          "output_type": "stream",
          "text": [
            "Loaded the images of dataset-dogs\n",
            "\n",
            "Input image shape: (1, 224, 224, 3)\n",
            "Input image shape: (1, 224, 224, 3)\n",
            "Input image shape: (1, 224, 224, 3)\n",
            "Input image shape: (1, 224, 224, 3)\n",
            "Input image shape: (1, 224, 224, 3)\n",
            "Input image shape: (1, 224, 224, 3)\n",
            "Input image shape: (1, 224, 224, 3)\n",
            "Input image shape: (1, 224, 224, 3)\n",
            "Input image shape: (1, 224, 224, 3)\n",
            "Input image shape: (1, 224, 224, 3)\n",
            "Input image shape: (1, 224, 224, 3)\n",
            "Input image shape: (1, 224, 224, 3)\n",
            "Input image shape: (1, 224, 224, 3)\n",
            "Input image shape: (1, 224, 224, 3)\n",
            "Input image shape: (1, 224, 224, 3)\n",
            "Input image shape: (1, 224, 224, 3)\n",
            "Input image shape: (1, 224, 224, 3)\n",
            "Input image shape: (1, 224, 224, 3)\n",
            "Input image shape: (1, 224, 224, 3)\n",
            "Input image shape: (1, 224, 224, 3)\n",
            "Input image shape: (1, 224, 224, 3)\n",
            "Input image shape: (1, 224, 224, 3)\n",
            "Input image shape: (1, 224, 224, 3)\n",
            "Input image shape: (1, 224, 224, 3)\n",
            "Input image shape: (1, 224, 224, 3)\n",
            "Loaded the images of dataset-humans\n",
            "\n",
            "Input image shape: (1, 224, 224, 3)\n",
            "Input image shape: (1, 224, 224, 3)\n",
            "Input image shape: (1, 224, 224, 3)\n",
            "Input image shape: (1, 224, 224, 3)\n",
            "Input image shape: (1, 224, 224, 3)\n",
            "Input image shape: (1, 224, 224, 3)\n",
            "Input image shape: (1, 224, 224, 3)\n",
            "Input image shape: (1, 224, 224, 3)\n",
            "Input image shape: (1, 224, 224, 3)\n",
            "Input image shape: (1, 224, 224, 3)\n",
            "Input image shape: (1, 224, 224, 3)\n",
            "Input image shape: (1, 224, 224, 3)\n",
            "Input image shape: (1, 224, 224, 3)\n",
            "Input image shape: (1, 224, 224, 3)\n",
            "Input image shape: (1, 224, 224, 3)\n",
            "Input image shape: (1, 224, 224, 3)\n",
            "Input image shape: (1, 224, 224, 3)\n",
            "Input image shape: (1, 224, 224, 3)\n",
            "Input image shape: (1, 224, 224, 3)\n",
            "Input image shape: (1, 224, 224, 3)\n",
            "Input image shape: (1, 224, 224, 3)\n",
            "Input image shape: (1, 224, 224, 3)\n",
            "Input image shape: (1, 224, 224, 3)\n",
            "Input image shape: (1, 224, 224, 3)\n",
            "Input image shape: (1, 224, 224, 3)\n",
            "Loaded the images of dataset-cats\n",
            "\n",
            "Input image shape: (1, 224, 224, 3)\n",
            "Input image shape: (1, 224, 224, 3)\n",
            "Input image shape: (1, 224, 224, 3)\n",
            "Input image shape: (1, 224, 224, 3)\n",
            "Input image shape: (1, 224, 224, 3)\n",
            "Input image shape: (1, 224, 224, 3)\n",
            "Input image shape: (1, 224, 224, 3)\n",
            "Input image shape: (1, 224, 224, 3)\n",
            "Input image shape: (1, 224, 224, 3)\n",
            "Input image shape: (1, 224, 224, 3)\n",
            "Input image shape: (1, 224, 224, 3)\n",
            "Input image shape: (1, 224, 224, 3)\n",
            "Input image shape: (1, 224, 224, 3)\n",
            "Input image shape: (1, 224, 224, 3)\n",
            "Input image shape: (1, 224, 224, 3)\n",
            "Input image shape: (1, 224, 224, 3)\n",
            "Input image shape: (1, 224, 224, 3)\n",
            "Input image shape: (1, 224, 224, 3)\n",
            "Input image shape: (1, 224, 224, 3)\n",
            "Input image shape: (1, 224, 224, 3)\n",
            "Input image shape: (1, 224, 224, 3)\n",
            "Input image shape: (1, 224, 224, 3)\n",
            "Input image shape: (1, 224, 224, 3)\n",
            "Input image shape: (1, 224, 224, 3)\n",
            "Input image shape: (1, 224, 224, 3)\n",
            "Loaded the images of dataset-horses\n",
            "\n",
            "Input image shape: (1, 224, 224, 3)\n",
            "Input image shape: (1, 224, 224, 3)\n",
            "Input image shape: (1, 224, 224, 3)\n",
            "Input image shape: (1, 224, 224, 3)\n",
            "Input image shape: (1, 224, 224, 3)\n",
            "Input image shape: (1, 224, 224, 3)\n",
            "Input image shape: (1, 224, 224, 3)\n",
            "Input image shape: (1, 224, 224, 3)\n",
            "Input image shape: (1, 224, 224, 3)\n",
            "Input image shape: (1, 224, 224, 3)\n",
            "Input image shape: (1, 224, 224, 3)\n",
            "Input image shape: (1, 224, 224, 3)\n",
            "Input image shape: (1, 224, 224, 3)\n",
            "Input image shape: (1, 224, 224, 3)\n",
            "Input image shape: (1, 224, 224, 3)\n",
            "Input image shape: (1, 224, 224, 3)\n",
            "Input image shape: (1, 224, 224, 3)\n",
            "Input image shape: (1, 224, 224, 3)\n",
            "Input image shape: (1, 224, 224, 3)\n",
            "Input image shape: (1, 224, 224, 3)\n",
            "Input image shape: (1, 224, 224, 3)\n",
            "Input image shape: (1, 224, 224, 3)\n",
            "Input image shape: (1, 224, 224, 3)\n",
            "Input image shape: (1, 224, 224, 3)\n",
            "Input image shape: (1, 224, 224, 3)\n",
            "(100, 1, 224, 224, 3)\n",
            "(1, 100, 224, 224, 3)\n",
            "(100, 224, 224, 3)\n"
          ],
          "name": "stdout"
        }
      ]
    },
    {
      "cell_type": "code",
      "metadata": {
        "colab": {
          "base_uri": "https://localhost:8080/"
        },
        "id": "_KLvYUjOQmav",
        "outputId": "8c3b4fdb-083e-4426-b88d-15caab560a89"
      },
      "source": [
        "from keras.models import Sequential\n",
        "from keras.layers import Dense, Conv2D, Flatten\n",
        "#create model\n",
        "model = Sequential()\n",
        "#add model layers\n",
        "model.add(Conv2D(64, kernel_size=3, activation='relu', input_shape=(1,224,224,3)))\n",
        "model.add(Conv2D(32, kernel_size=3, activation='relu'))\n",
        "model.add(Flatten())\n",
        "model.add(Dense(4, activation='softmax'))\n",
        "#compile model using accuracy to measure model performance\n",
        "model.compile(optimizer='adam', loss='categorical_crossentropy', metrics=['accuracy'])\n",
        "#train the model\n",
        "model.fit(X_train, y_train, validation_data=(X_test, y_test), epochs=10)"
      ],
      "execution_count": null,
      "outputs": [
        {
          "output_type": "stream",
          "text": [
            "Epoch 1/10\n",
            "WARNING:tensorflow:Model was constructed with shape (None, 1, 224, 224, 3) for input KerasTensor(type_spec=TensorSpec(shape=(None, 1, 224, 224, 3), dtype=tf.float32, name='conv2d_11_input'), name='conv2d_11_input', description=\"created by layer 'conv2d_11_input'\"), but it was called on an input with incompatible shape (32, 224, 224, 3).\n",
            "WARNING:tensorflow:Model was constructed with shape (None, 1, 224, 224, 3) for input KerasTensor(type_spec=TensorSpec(shape=(None, 1, 224, 224, 3), dtype=tf.float32, name='conv2d_11_input'), name='conv2d_11_input', description=\"created by layer 'conv2d_11_input'\"), but it was called on an input with incompatible shape (32, 224, 224, 3).\n",
            "3/3 [==============================] - ETA: 0s - loss: 2485.4605 - accuracy: 0.2066WARNING:tensorflow:Model was constructed with shape (None, 1, 224, 224, 3) for input KerasTensor(type_spec=TensorSpec(shape=(None, 1, 224, 224, 3), dtype=tf.float32, name='conv2d_11_input'), name='conv2d_11_input', description=\"created by layer 'conv2d_11_input'\"), but it was called on an input with incompatible shape (None, 224, 224, 3).\n",
            "3/3 [==============================] - 19s 6s/step - loss: 2938.9291 - accuracy: 0.2122 - val_loss: 12044.3867 - val_accuracy: 0.2500\n",
            "Epoch 2/10\n",
            "3/3 [==============================] - 18s 6s/step - loss: 4239.0009 - accuracy: 0.2500 - val_loss: 1073.4141 - val_accuracy: 0.0000e+00\n",
            "Epoch 3/10\n",
            "3/3 [==============================] - 18s 6s/step - loss: 319.4838 - accuracy: 0.4089 - val_loss: 84.2302 - val_accuracy: 0.0000e+00\n",
            "Epoch 4/10\n",
            "3/3 [==============================] - 18s 6s/step - loss: 39.7833 - accuracy: 0.6497 - val_loss: 19.8283 - val_accuracy: 0.7500\n",
            "Epoch 5/10\n",
            "3/3 [==============================] - 18s 6s/step - loss: 1.8059 - accuracy: 0.9323 - val_loss: 18.1143 - val_accuracy: 0.2500\n",
            "Epoch 6/10\n",
            "3/3 [==============================] - 18s 6s/step - loss: 0.0223 - accuracy: 0.9909 - val_loss: 40.6286 - val_accuracy: 0.2500\n",
            "Epoch 7/10\n",
            "3/3 [==============================] - 18s 6s/step - loss: 4.7342e-07 - accuracy: 1.0000 - val_loss: 60.9468 - val_accuracy: 0.2500\n",
            "Epoch 8/10\n",
            "3/3 [==============================] - 18s 6s/step - loss: 8.0535e-06 - accuracy: 1.0000 - val_loss: 82.7296 - val_accuracy: 0.0000e+00\n",
            "Epoch 9/10\n",
            "3/3 [==============================] - 18s 6s/step - loss: 0.1247 - accuracy: 0.9857 - val_loss: 75.1305 - val_accuracy: 0.2500\n",
            "Epoch 10/10\n",
            "3/3 [==============================] - 18s 6s/step - loss: 2.2197e-08 - accuracy: 1.0000 - val_loss: 66.3309 - val_accuracy: 0.2500\n"
          ],
          "name": "stdout"
        },
        {
          "output_type": "execute_result",
          "data": {
            "text/plain": [
              "<tensorflow.python.keras.callbacks.History at 0x7f093a0c4410>"
            ]
          },
          "metadata": {
            "tags": []
          },
          "execution_count": 10
        }
      ]
    },
    {
      "cell_type": "code",
      "metadata": {
        "colab": {
          "base_uri": "https://localhost:8080/"
        },
        "id": "ZRBtW6xCTHjd",
        "outputId": "1790292f-7b0e-42d6-f6d6-ee20bc119dea"
      },
      "source": [
        "model.summary()"
      ],
      "execution_count": null,
      "outputs": [
        {
          "output_type": "stream",
          "text": [
            "Model: \"sequential_23\"\n",
            "_________________________________________________________________\n",
            "Layer (type)                 Output Shape              Param #   \n",
            "=================================================================\n",
            "flatten_18 (Flatten)         (None, 150528)            0         \n",
            "_________________________________________________________________\n",
            "dense_44 (Dense)             (None, 128)               19267712  \n",
            "_________________________________________________________________\n",
            "activation_44 (Activation)   (None, 128)               0         \n",
            "_________________________________________________________________\n",
            "dropout_20 (Dropout)         (None, 128)               0         \n",
            "_________________________________________________________________\n",
            "dense_45 (Dense)             (None, 64)                8256      \n",
            "_________________________________________________________________\n",
            "activation_45 (Activation)   (None, 64)                0         \n",
            "_________________________________________________________________\n",
            "dropout_21 (Dropout)         (None, 64)                0         \n",
            "_________________________________________________________________\n",
            "dense_46 (Dense)             (None, 4)                 260       \n",
            "_________________________________________________________________\n",
            "activation_46 (Activation)   (None, 4)                 0         \n",
            "=================================================================\n",
            "Total params: 19,276,228\n",
            "Trainable params: 19,276,228\n",
            "Non-trainable params: 0\n",
            "_________________________________________________________________\n"
          ],
          "name": "stdout"
        }
      ]
    },
    {
      "cell_type": "code",
      "metadata": {
        "colab": {
          "base_uri": "https://localhost:8080/"
        },
        "id": "PNuJvQFfSh8c",
        "outputId": "7e269ac2-5842-4590-b7df-ebb155767941"
      },
      "source": [
        "from keras.models import Sequential\n",
        "from keras.layers import Dense, Conv2D, Flatten,Activation,MaxPooling2D,Dropout\n",
        "model = Sequential()\n",
        "model.add(Conv2D(64, kernel_size=3, activation='relu', input_shape=(224,224,3)))\n",
        "model.add(Activation('relu'))\n",
        "model.add(MaxPooling2D(pool_size=(2,2)))\n",
        "\n",
        "model.add(Conv2D(32,(3,3)))\n",
        "model.add(Activation('relu'))\n",
        "model.add(MaxPooling2D(pool_size=(2,2)))\n",
        "\n",
        "model.add(Conv2D(64,(3,3)))\n",
        "model.add(Activation('relu'))\n",
        "model.add(MaxPooling2D(pool_size=(2,2)))\n",
        "\n",
        "model.add(Flatten())\n",
        "model.add(Dense(128))\n",
        "model.add(Activation('relu'))\n",
        "model.add(Dropout(0.5))\n",
        "model.add(Dense(64))\n",
        "model.add(Activation('relu'))\n",
        "model.add(Dropout(0.5))\n",
        "model.add(Dense(4))\n",
        "model.add(Activation('tanh'))\n",
        "\n",
        "model.compile(optimizer = 'rmsprop',loss = 'binary_crossentropy',metrics = ['accuracy'])\n",
        "model.fit(X_train, y_train, validation_data=(X_test, y_test), epochs=10)"
      ],
      "execution_count": null,
      "outputs": [
        {
          "output_type": "stream",
          "text": [
            "Epoch 1/10\n",
            "3/3 [==============================] - 10s 3s/step - loss: 6.3758 - accuracy: 0.2398 - val_loss: 5.3680 - val_accuracy: 0.3000\n",
            "Epoch 2/10\n",
            "3/3 [==============================] - 8s 2s/step - loss: 7.3646 - accuracy: 0.2305 - val_loss: 5.3680 - val_accuracy: 0.3000\n",
            "Epoch 3/10\n",
            "3/3 [==============================] - 8s 2s/step - loss: 6.5525 - accuracy: 0.2594 - val_loss: 5.3680 - val_accuracy: 0.3000\n",
            "Epoch 4/10\n",
            "3/3 [==============================] - 8s 2s/step - loss: 6.9612 - accuracy: 0.2203 - val_loss: 5.3680 - val_accuracy: 0.3000\n",
            "Epoch 5/10\n",
            "3/3 [==============================] - 8s 2s/step - loss: 6.8387 - accuracy: 0.2047 - val_loss: 8.0300 - val_accuracy: 0.3000\n",
            "Epoch 6/10\n",
            "3/3 [==============================] - 8s 2s/step - loss: 7.3312 - accuracy: 0.2188 - val_loss: 8.0300 - val_accuracy: 0.3000\n",
            "Epoch 7/10\n",
            "3/3 [==============================] - 8s 2s/step - loss: 7.5647 - accuracy: 0.2477 - val_loss: 8.0300 - val_accuracy: 0.3000\n",
            "Epoch 8/10\n",
            "3/3 [==============================] - 8s 2s/step - loss: 6.7996 - accuracy: 0.2437 - val_loss: 8.0300 - val_accuracy: 0.3000\n",
            "Epoch 9/10\n",
            "3/3 [==============================] - 8s 2s/step - loss: 6.9749 - accuracy: 0.2633 - val_loss: 8.0300 - val_accuracy: 0.3000\n",
            "Epoch 10/10\n",
            "3/3 [==============================] - 8s 2s/step - loss: 7.1436 - accuracy: 0.2164 - val_loss: 8.0300 - val_accuracy: 0.3000\n"
          ],
          "name": "stdout"
        },
        {
          "output_type": "execute_result",
          "data": {
            "text/plain": [
              "<tensorflow.python.keras.callbacks.History at 0x7f093da29e90>"
            ]
          },
          "metadata": {
            "tags": []
          },
          "execution_count": 8
        }
      ]
    }
  ]
}